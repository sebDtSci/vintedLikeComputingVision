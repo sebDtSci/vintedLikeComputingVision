{
 "cells": [
  {
   "cell_type": "code",
   "execution_count": 1,
   "metadata": {},
   "outputs": [
    {
     "name": "stdout",
     "output_type": "stream",
     "text": [
      "/Users/athena/Documents/ecole/vintedLikeComputingVision/test\n"
     ]
    }
   ],
   "source": [
    "!pwd"
   ]
  },
  {
   "cell_type": "code",
   "execution_count": 7,
   "metadata": {},
   "outputs": [
    {
     "name": "stdout",
     "output_type": "stream",
     "text": [
      "Requirement already satisfied: Pillow in /Users/athena/Documents/ecole/vintedLikeComputingVision/app-env/lib/python3.11/site-packages (10.1.0)\n",
      "zsh:1: no matches found: rembg[gpu]\n"
     ]
    }
   ],
   "source": [
    "!pip install Pillow\n",
    "\n",
    "# !pip install rembg\n",
    "!pip install rembg[gpu]\n"
   ]
  },
  {
   "cell_type": "code",
   "execution_count": 8,
   "metadata": {},
   "outputs": [],
   "source": [
    "import sys\n",
    "sys.path.append('/Users/athena/Documents/ecole/vintedLikeComputingVision') \n",
    "from model import modelReco\n",
    "from rembg import remove \n",
    "from PIL import Image "
   ]
  },
  {
   "cell_type": "code",
   "execution_count": 15,
   "metadata": {},
   "outputs": [],
   "source": [
    "from rembg import remove \n",
    "from PIL import Image \n",
    "from rembg import remove\n",
    "\n",
    "input_path = '1697227319.jpeg'\n",
    "output_path = 'output.png'\n",
    "\n",
    "with open(input_path, 'rb') as i:\n",
    "    with open(output_path, 'wb') as o:\n",
    "        input = i.read()\n",
    "        output = remove(input)\n",
    "        o.write(output)"
   ]
  },
  {
   "cell_type": "code",
   "execution_count": 14,
   "metadata": {},
   "outputs": [
    {
     "ename": "ValueError",
     "evalue": "unknown file extension: .pnj",
     "output_type": "error",
     "traceback": [
      "\u001b[0;31m---------------------------------------------------------------------------\u001b[0m",
      "\u001b[0;31mKeyError\u001b[0m                                  Traceback (most recent call last)",
      "File \u001b[0;32m~/Documents/ecole/vintedLikeComputingVision/app-env/lib/python3.11/site-packages/PIL/Image.py:2415\u001b[0m, in \u001b[0;36mImage.save\u001b[0;34m(self, fp, format, **params)\u001b[0m\n\u001b[1;32m   2414\u001b[0m \u001b[39mtry\u001b[39;00m:\n\u001b[0;32m-> 2415\u001b[0m     \u001b[39mformat\u001b[39m \u001b[39m=\u001b[39m EXTENSION[ext]\n\u001b[1;32m   2416\u001b[0m \u001b[39mexcept\u001b[39;00m \u001b[39mKeyError\u001b[39;00m \u001b[39mas\u001b[39;00m e:\n",
      "\u001b[0;31mKeyError\u001b[0m: '.pnj'",
      "\nThe above exception was the direct cause of the following exception:\n",
      "\u001b[0;31mValueError\u001b[0m                                Traceback (most recent call last)",
      "\u001b[1;32m/Users/athena/Documents/ecole/vintedLikeComputingVision/test/test.ipynb Cellule 4\u001b[0m line \u001b[0;36m1\n\u001b[1;32m     <a href='vscode-notebook-cell:/Users/athena/Documents/ecole/vintedLikeComputingVision/test/test.ipynb#X11sZmlsZQ%3D%3D?line=10'>11</a>\u001b[0m output \u001b[39m=\u001b[39m remove(\u001b[39minput\u001b[39m) \n\u001b[1;32m     <a href='vscode-notebook-cell:/Users/athena/Documents/ecole/vintedLikeComputingVision/test/test.ipynb#X11sZmlsZQ%3D%3D?line=12'>13</a>\u001b[0m \u001b[39m#Saving the image in the given path \u001b[39;00m\n\u001b[0;32m---> <a href='vscode-notebook-cell:/Users/athena/Documents/ecole/vintedLikeComputingVision/test/test.ipynb#X11sZmlsZQ%3D%3D?line=13'>14</a>\u001b[0m output\u001b[39m.\u001b[39;49msave(output_path) \n",
      "File \u001b[0;32m~/Documents/ecole/vintedLikeComputingVision/app-env/lib/python3.11/site-packages/PIL/Image.py:2418\u001b[0m, in \u001b[0;36mImage.save\u001b[0;34m(self, fp, format, **params)\u001b[0m\n\u001b[1;32m   2416\u001b[0m     \u001b[39mexcept\u001b[39;00m \u001b[39mKeyError\u001b[39;00m \u001b[39mas\u001b[39;00m e:\n\u001b[1;32m   2417\u001b[0m         msg \u001b[39m=\u001b[39m \u001b[39mf\u001b[39m\u001b[39m\"\u001b[39m\u001b[39munknown file extension: \u001b[39m\u001b[39m{\u001b[39;00mext\u001b[39m}\u001b[39;00m\u001b[39m\"\u001b[39m\n\u001b[0;32m-> 2418\u001b[0m         \u001b[39mraise\u001b[39;00m \u001b[39mValueError\u001b[39;00m(msg) \u001b[39mfrom\u001b[39;00m \u001b[39me\u001b[39;00m\n\u001b[1;32m   2420\u001b[0m \u001b[39mif\u001b[39;00m \u001b[39mformat\u001b[39m\u001b[39m.\u001b[39mupper() \u001b[39mnot\u001b[39;00m \u001b[39min\u001b[39;00m SAVE:\n\u001b[1;32m   2421\u001b[0m     init()\n",
      "\u001b[0;31mValueError\u001b[0m: unknown file extension: .pnj"
     ]
    }
   ],
   "source": [
    "# Store path of the image in the variable input_path \n",
    "input_path =  '1697227319.jpeg' \n",
    "  \n",
    "# Store path of the output image in the variable output_path \n",
    "output_path = 'test.pnj' \n",
    "  \n",
    "# Processing the image \n",
    "input = Image.open(input_path) \n",
    "  \n",
    "# Removing the background from the given Image \n",
    "output = remove(input) \n",
    "  \n",
    "#Saving the image in the given path \n",
    "output.save(output_path) "
   ]
  },
  {
   "cell_type": "code",
   "execution_count": 4,
   "metadata": {},
   "outputs": [
    {
     "ename": "ValueError",
     "evalue": "Input type <class 'str'> is not supported.",
     "output_type": "error",
     "traceback": [
      "\u001b[0;31m---------------------------------------------------------------------------\u001b[0m",
      "\u001b[0;31mValueError\u001b[0m                                Traceback (most recent call last)",
      "\u001b[1;32m/Users/athena/Documents/ecole/vintedLikeComputingVision/test/test.ipynb Cellule 4\u001b[0m line \u001b[0;36m1\n\u001b[0;32m----> <a href='vscode-notebook-cell:/Users/athena/Documents/ecole/vintedLikeComputingVision/test/test.ipynb#X10sZmlsZQ%3D%3D?line=0'>1</a>\u001b[0m output \u001b[39m=\u001b[39m remove(\u001b[39m'\u001b[39;49m\u001b[39m1697227319.jpeg\u001b[39;49m\u001b[39m'\u001b[39;49m) \n",
      "File \u001b[0;32m~/Documents/ecole/vintedLikeComputingVision/app-env/lib/python3.11/site-packages/rembg/bg.py:154\u001b[0m, in \u001b[0;36mremove\u001b[0;34m(data, alpha_matting, alpha_matting_foreground_threshold, alpha_matting_background_threshold, alpha_matting_erode_size, session, only_mask, post_process_mask, bgcolor, *args, **kwargs)\u001b[0m\n\u001b[1;32m    152\u001b[0m     img \u001b[39m=\u001b[39m Image\u001b[39m.\u001b[39mfromarray(data)\n\u001b[1;32m    153\u001b[0m \u001b[39melse\u001b[39;00m:\n\u001b[0;32m--> 154\u001b[0m     \u001b[39mraise\u001b[39;00m \u001b[39mValueError\u001b[39;00m(\u001b[39m\"\u001b[39m\u001b[39mInput type \u001b[39m\u001b[39m{}\u001b[39;00m\u001b[39m is not supported.\u001b[39m\u001b[39m\"\u001b[39m\u001b[39m.\u001b[39mformat(\u001b[39mtype\u001b[39m(data)))\n\u001b[1;32m    156\u001b[0m putalpha \u001b[39m=\u001b[39m kwargs\u001b[39m.\u001b[39mpop(\u001b[39m\"\u001b[39m\u001b[39mputalpha\u001b[39m\u001b[39m\"\u001b[39m, \u001b[39mFalse\u001b[39;00m)\n\u001b[1;32m    158\u001b[0m \u001b[39m# Fix image orientation\u001b[39;00m\n",
      "\u001b[0;31mValueError\u001b[0m: Input type <class 'str'> is not supported."
     ]
    }
   ],
   "source": [
    "output = remove('1697227319.jpeg') "
   ]
  },
  {
   "cell_type": "code",
   "execution_count": 6,
   "metadata": {},
   "outputs": [
    {
     "name": "stderr",
     "output_type": "stream",
     "text": [
      "WARNING:absl:At this time, the v2.11+ optimizer `tf.keras.optimizers.Adam` runs slowly on M1/M2 Macs, please use the legacy Keras optimizer instead, located at `tf.keras.optimizers.legacy.Adam`.\n"
     ]
    },
    {
     "name": "stdout",
     "output_type": "stream",
     "text": [
      "1/1 [==============================] - 1s 675ms/step\n",
      "Classe prédite: 0\n"
     ]
    },
    {
     "data": {
      "text/plain": [
       "'bon etat'"
      ]
     },
     "execution_count": 6,
     "metadata": {},
     "output_type": "execute_result"
    }
   ],
   "source": [
    "modelReco.state('1697227319.jpeg')"
   ]
  },
  {
   "cell_type": "code",
   "execution_count": 10,
   "metadata": {},
   "outputs": [],
   "source": [
    "filename = 'ok'"
   ]
  },
  {
   "cell_type": "code",
   "execution_count": 11,
   "metadata": {},
   "outputs": [
    {
     "name": "stdout",
     "output_type": "stream",
     "text": [
      "static/uploadsok\n"
     ]
    }
   ],
   "source": [
    "print('static/uploads' + filename)"
   ]
  },
  {
   "cell_type": "code",
   "execution_count": null,
   "metadata": {},
   "outputs": [],
   "source": []
  }
 ],
 "metadata": {
  "kernelspec": {
   "display_name": "app-env",
   "language": "python",
   "name": "python3"
  },
  "language_info": {
   "codemirror_mode": {
    "name": "ipython",
    "version": 3
   },
   "file_extension": ".py",
   "mimetype": "text/x-python",
   "name": "python",
   "nbconvert_exporter": "python",
   "pygments_lexer": "ipython3",
   "version": "3.11.4"
  }
 },
 "nbformat": 4,
 "nbformat_minor": 2
}
