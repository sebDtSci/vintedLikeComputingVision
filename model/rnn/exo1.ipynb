{
 "cells": [
  {
   "cell_type": "code",
   "execution_count": 6,
   "metadata": {},
   "outputs": [],
   "source": [
    "import pandas as pd\n",
    "import requests\n",
    "from PIL import Image\n",
    "from io import BytesIO\n",
    "import numpy as np\n",
    "import cv2\n",
    "from sklearn.preprocessing import LabelEncoder\n",
    "from tensorflow.keras.utils import to_categorical\n",
    "from tqdm import tqdm"
   ]
  },
  {
   "cell_type": "code",
   "execution_count": 4,
   "metadata": {},
   "outputs": [],
   "source": [
    "df = pd.read_excel('chaussuretresbonetat.xlsx')\n",
    "df2 = pd.read_excel('chaussurebonetat.xlsx')\n",
    "df3 = pd.read_excel('chaussuresatisfaisant.xlsx')"
   ]
  },
  {
   "cell_type": "code",
   "execution_count": 5,
   "metadata": {},
   "outputs": [],
   "source": [
    "df = df.iloc[:,4:6]\n",
    "df2 = df2.iloc[:,4:6]\n",
    "df3 = df3.iloc[:,4:6]"
   ]
  },
  {
   "cell_type": "code",
   "execution_count": 6,
   "metadata": {},
   "outputs": [],
   "source": [
    "frames = [df,df2,df3]\n",
    "result = pd.concat(frames,ignore_index=True)\n",
    "result.to_csv('test.csv')"
   ]
  },
  {
   "cell_type": "code",
   "execution_count": 8,
   "metadata": {},
   "outputs": [
    {
     "name": "stderr",
     "output_type": "stream",
     "text": [
      "  4%|▎         | 333/9287 [00:19<13:10, 11.32it/s]"
     ]
    }
   ],
   "source": [
    "imageLst = []\n",
    "labelLst = []\n",
    "\n",
    "with requests.Session() as session:\n",
    "    for i, url in enumerate(tqdm(result['image-src'])):\n",
    "        try:\n",
    "            resp = session.get(url)\n",
    "            img = Image.open(BytesIO(resp.content))\n",
    "            img_np = np.array(img)\n",
    "            img_resized = cv2.resize(img_np, (150, 150))\n",
    "            imageLst.append(img_resized)\n",
    "            labelLst.append(result['Etat'][i])\n",
    "        except:\n",
    "            pass\n",
    "\n",
    "# Convertir les listes en tableaux NumPy\n",
    "x = np.array(imageLst)\n",
    "y = np.array(labelLst)\n",
    "\n"
   ]
  },
  {
   "cell_type": "code",
   "execution_count": null,
   "metadata": {},
   "outputs": [
    {
     "name": "stdout",
     "output_type": "stream",
     "text": [
      "9287\n",
      "9287\n"
     ]
    }
   ],
   "source": [
    "print(len(imageLst))\n",
    "print(len(labelLst))"
   ]
  },
  {
   "cell_type": "code",
   "execution_count": null,
   "metadata": {},
   "outputs": [],
   "source": [
    "np.save(\"array_X.npy\", x)\n",
    "np.save(\"array_Y.npy\", y)"
   ]
  },
  {
   "cell_type": "code",
   "execution_count": 7,
   "metadata": {},
   "outputs": [],
   "source": [
    "x = np.load(\"array_X.npy\")\n",
    "y = np.load(\"array_Y.npy\")"
   ]
  },
  {
   "cell_type": "code",
   "execution_count": 9,
   "metadata": {},
   "outputs": [],
   "source": [
    "# Encodage des étiquettes\n",
    "label_encoder = LabelEncoder()\n",
    "y_encoded = label_encoder.fit_transform(y)\n",
    "y_one_hot = to_categorical(y_encoded)"
   ]
  },
  {
   "cell_type": "code",
   "execution_count": 25,
   "metadata": {},
   "outputs": [
    {
     "name": "stdout",
     "output_type": "stream",
     "text": [
      "['bon etat' 'satisfaisant' 'très bon etat']\n"
     ]
    }
   ],
   "source": [
    "print(label_encoder.classes_)"
   ]
  },
  {
   "cell_type": "code",
   "execution_count": 10,
   "metadata": {},
   "outputs": [
    {
     "name": "stdout",
     "output_type": "stream",
     "text": [
      "Requirement already satisfied: tensorflow-macos in ./exo-env/lib/python3.11/site-packages (2.14.0)\n",
      "Requirement already satisfied: absl-py>=1.0.0 in ./exo-env/lib/python3.11/site-packages (from tensorflow-macos) (2.0.0)\n",
      "Requirement already satisfied: astunparse>=1.6.0 in ./exo-env/lib/python3.11/site-packages (from tensorflow-macos) (1.6.3)\n",
      "Requirement already satisfied: flatbuffers>=23.5.26 in ./exo-env/lib/python3.11/site-packages (from tensorflow-macos) (23.5.26)\n",
      "Requirement already satisfied: gast!=0.5.0,!=0.5.1,!=0.5.2,>=0.2.1 in ./exo-env/lib/python3.11/site-packages (from tensorflow-macos) (0.5.4)\n",
      "Requirement already satisfied: google-pasta>=0.1.1 in ./exo-env/lib/python3.11/site-packages (from tensorflow-macos) (0.2.0)\n",
      "Requirement already satisfied: h5py>=2.9.0 in ./exo-env/lib/python3.11/site-packages (from tensorflow-macos) (3.10.0)\n",
      "Requirement already satisfied: libclang>=13.0.0 in ./exo-env/lib/python3.11/site-packages (from tensorflow-macos) (16.0.6)\n",
      "Requirement already satisfied: ml-dtypes==0.2.0 in ./exo-env/lib/python3.11/site-packages (from tensorflow-macos) (0.2.0)\n",
      "Requirement already satisfied: numpy>=1.23.5 in ./exo-env/lib/python3.11/site-packages (from tensorflow-macos) (1.26.1)\n",
      "Requirement already satisfied: opt-einsum>=2.3.2 in ./exo-env/lib/python3.11/site-packages (from tensorflow-macos) (3.3.0)\n",
      "Requirement already satisfied: packaging in ./exo-env/lib/python3.11/site-packages (from tensorflow-macos) (23.2)\n",
      "Requirement already satisfied: protobuf!=4.21.0,!=4.21.1,!=4.21.2,!=4.21.3,!=4.21.4,!=4.21.5,<5.0.0dev,>=3.20.3 in ./exo-env/lib/python3.11/site-packages (from tensorflow-macos) (4.24.4)\n",
      "Requirement already satisfied: setuptools in ./exo-env/lib/python3.11/site-packages (from tensorflow-macos) (68.0.0)\n",
      "Requirement already satisfied: six>=1.12.0 in ./exo-env/lib/python3.11/site-packages (from tensorflow-macos) (1.16.0)\n",
      "Requirement already satisfied: termcolor>=1.1.0 in ./exo-env/lib/python3.11/site-packages (from tensorflow-macos) (2.3.0)\n",
      "Requirement already satisfied: typing-extensions>=3.6.6 in ./exo-env/lib/python3.11/site-packages (from tensorflow-macos) (4.8.0)\n",
      "Requirement already satisfied: wrapt<1.15,>=1.11.0 in ./exo-env/lib/python3.11/site-packages (from tensorflow-macos) (1.14.1)\n",
      "Requirement already satisfied: tensorflow-io-gcs-filesystem>=0.23.1 in ./exo-env/lib/python3.11/site-packages (from tensorflow-macos) (0.34.0)\n",
      "Requirement already satisfied: grpcio<2.0,>=1.24.3 in ./exo-env/lib/python3.11/site-packages (from tensorflow-macos) (1.59.0)\n",
      "Requirement already satisfied: tensorboard<2.15,>=2.14 in ./exo-env/lib/python3.11/site-packages (from tensorflow-macos) (2.14.1)\n",
      "Requirement already satisfied: tensorflow-estimator<2.15,>=2.14.0 in ./exo-env/lib/python3.11/site-packages (from tensorflow-macos) (2.14.0)\n",
      "Requirement already satisfied: keras<2.15,>=2.14.0 in ./exo-env/lib/python3.11/site-packages (from tensorflow-macos) (2.14.0)\n",
      "Requirement already satisfied: wheel<1.0,>=0.23.0 in ./exo-env/lib/python3.11/site-packages (from astunparse>=1.6.0->tensorflow-macos) (0.41.2)\n",
      "Requirement already satisfied: google-auth<3,>=1.6.3 in ./exo-env/lib/python3.11/site-packages (from tensorboard<2.15,>=2.14->tensorflow-macos) (2.23.3)\n",
      "Requirement already satisfied: google-auth-oauthlib<1.1,>=0.5 in ./exo-env/lib/python3.11/site-packages (from tensorboard<2.15,>=2.14->tensorflow-macos) (1.0.0)\n",
      "Requirement already satisfied: markdown>=2.6.8 in ./exo-env/lib/python3.11/site-packages (from tensorboard<2.15,>=2.14->tensorflow-macos) (3.5)\n",
      "Requirement already satisfied: requests<3,>=2.21.0 in ./exo-env/lib/python3.11/site-packages (from tensorboard<2.15,>=2.14->tensorflow-macos) (2.31.0)\n",
      "Requirement already satisfied: tensorboard-data-server<0.8.0,>=0.7.0 in ./exo-env/lib/python3.11/site-packages (from tensorboard<2.15,>=2.14->tensorflow-macos) (0.7.1)\n",
      "Requirement already satisfied: werkzeug>=1.0.1 in ./exo-env/lib/python3.11/site-packages (from tensorboard<2.15,>=2.14->tensorflow-macos) (3.0.0)\n",
      "Requirement already satisfied: cachetools<6.0,>=2.0.0 in ./exo-env/lib/python3.11/site-packages (from google-auth<3,>=1.6.3->tensorboard<2.15,>=2.14->tensorflow-macos) (5.3.1)\n",
      "Requirement already satisfied: pyasn1-modules>=0.2.1 in ./exo-env/lib/python3.11/site-packages (from google-auth<3,>=1.6.3->tensorboard<2.15,>=2.14->tensorflow-macos) (0.3.0)\n",
      "Requirement already satisfied: rsa<5,>=3.1.4 in ./exo-env/lib/python3.11/site-packages (from google-auth<3,>=1.6.3->tensorboard<2.15,>=2.14->tensorflow-macos) (4.9)\n",
      "Requirement already satisfied: requests-oauthlib>=0.7.0 in ./exo-env/lib/python3.11/site-packages (from google-auth-oauthlib<1.1,>=0.5->tensorboard<2.15,>=2.14->tensorflow-macos) (1.3.1)\n",
      "Requirement already satisfied: charset-normalizer<4,>=2 in ./exo-env/lib/python3.11/site-packages (from requests<3,>=2.21.0->tensorboard<2.15,>=2.14->tensorflow-macos) (3.3.0)\n",
      "Requirement already satisfied: idna<4,>=2.5 in ./exo-env/lib/python3.11/site-packages (from requests<3,>=2.21.0->tensorboard<2.15,>=2.14->tensorflow-macos) (3.4)\n",
      "Requirement already satisfied: urllib3<3,>=1.21.1 in ./exo-env/lib/python3.11/site-packages (from requests<3,>=2.21.0->tensorboard<2.15,>=2.14->tensorflow-macos) (2.0.6)\n",
      "Requirement already satisfied: certifi>=2017.4.17 in ./exo-env/lib/python3.11/site-packages (from requests<3,>=2.21.0->tensorboard<2.15,>=2.14->tensorflow-macos) (2023.7.22)\n",
      "Requirement already satisfied: MarkupSafe>=2.1.1 in ./exo-env/lib/python3.11/site-packages (from werkzeug>=1.0.1->tensorboard<2.15,>=2.14->tensorflow-macos) (2.1.3)\n",
      "Requirement already satisfied: pyasn1<0.6.0,>=0.4.6 in ./exo-env/lib/python3.11/site-packages (from pyasn1-modules>=0.2.1->google-auth<3,>=1.6.3->tensorboard<2.15,>=2.14->tensorflow-macos) (0.5.0)\n",
      "Requirement already satisfied: oauthlib>=3.0.0 in ./exo-env/lib/python3.11/site-packages (from requests-oauthlib>=0.7.0->google-auth-oauthlib<1.1,>=0.5->tensorboard<2.15,>=2.14->tensorflow-macos) (3.2.2)\n",
      "Requirement already satisfied: tensorflow-metal in ./exo-env/lib/python3.11/site-packages (1.1.0)\n",
      "Requirement already satisfied: wheel~=0.35 in ./exo-env/lib/python3.11/site-packages (from tensorflow-metal) (0.41.2)\n",
      "Requirement already satisfied: six>=1.15.0 in ./exo-env/lib/python3.11/site-packages (from tensorflow-metal) (1.16.0)\n"
     ]
    }
   ],
   "source": [
    "! pip install tensorflow-macos\n",
    "! pip install tensorflow-metal"
   ]
  },
  {
   "cell_type": "code",
   "execution_count": 11,
   "metadata": {},
   "outputs": [
    {
     "name": "stdout",
     "output_type": "stream",
     "text": [
      "['/device:CPU:0', '/device:GPU:0']\n"
     ]
    },
    {
     "name": "stderr",
     "output_type": "stream",
     "text": [
      "2023-10-16 12:45:27.629040: I metal_plugin/src/device/metal_device.cc:1154] Metal device set to: Apple M2 Pro\n",
      "2023-10-16 12:45:27.629071: I metal_plugin/src/device/metal_device.cc:296] systemMemory: 32.00 GB\n",
      "2023-10-16 12:45:27.629082: I metal_plugin/src/device/metal_device.cc:313] maxCacheSize: 10.67 GB\n",
      "2023-10-16 12:45:27.629128: I tensorflow/core/common_runtime/pluggable_device/pluggable_device_factory.cc:306] Could not identify NUMA node of platform GPU ID 0, defaulting to 0. Your kernel may not have been built with NUMA support.\n",
      "2023-10-16 12:45:27.629149: I tensorflow/core/common_runtime/pluggable_device/pluggable_device_factory.cc:272] Created TensorFlow device (/device:GPU:0 with 0 MB memory) -> physical PluggableDevice (device: 0, name: METAL, pci bus id: <undefined>)\n"
     ]
    }
   ],
   "source": [
    "from tensorflow.python.client import device_lib\n",
    "\n",
    "def get_available_devices():\n",
    "    local_device_protos = device_lib.list_local_devices()\n",
    "    return [x.name for x in local_device_protos]\n",
    "\n",
    "print(get_available_devices())\n"
   ]
  },
  {
   "cell_type": "code",
   "execution_count": 12,
   "metadata": {},
   "outputs": [
    {
     "name": "stderr",
     "output_type": "stream",
     "text": [
      "2023-10-16 12:45:31.404224: I tensorflow/core/common_runtime/pluggable_device/pluggable_device_factory.cc:306] Could not identify NUMA node of platform GPU ID 0, defaulting to 0. Your kernel may not have been built with NUMA support.\n",
      "2023-10-16 12:45:31.404243: I tensorflow/core/common_runtime/pluggable_device/pluggable_device_factory.cc:272] Created TensorFlow device (/job:localhost/replica:0/task:0/device:GPU:0 with 0 MB memory) -> physical PluggableDevice (device: 0, name: METAL, pci bus id: <undefined>)\n"
     ]
    },
    {
     "name": "stdout",
     "output_type": "stream",
     "text": [
      "Epoch 1/10\n"
     ]
    },
    {
     "name": "stderr",
     "output_type": "stream",
     "text": [
      "2023-10-16 12:45:33.714285: I tensorflow/core/grappler/optimizers/custom_graph_optimizer_registry.cc:117] Plugin optimizer for device_type GPU is enabled.\n"
     ]
    },
    {
     "name": "stdout",
     "output_type": "stream",
     "text": [
      "204/204 [==============================] - 37s 160ms/step - loss: 54.2497 - accuracy: 0.3694 - val_loss: 38.9851 - val_accuracy: 0.3927\n",
      "Epoch 2/10\n",
      "204/204 [==============================] - 21s 104ms/step - loss: 28.6401 - accuracy: 0.4466 - val_loss: 38.9755 - val_accuracy: 0.3690\n",
      "Epoch 3/10\n",
      "204/204 [==============================] - 21s 104ms/step - loss: 22.3347 - accuracy: 0.4906 - val_loss: 29.3938 - val_accuracy: 0.4300\n",
      "Epoch 4/10\n",
      "204/204 [==============================] - 21s 104ms/step - loss: 18.7441 - accuracy: 0.5248 - val_loss: 22.6247 - val_accuracy: 0.4228\n",
      "Epoch 5/10\n",
      "204/204 [==============================] - 21s 104ms/step - loss: 17.7873 - accuracy: 0.5322 - val_loss: 29.8706 - val_accuracy: 0.4121\n",
      "Epoch 6/10\n",
      "204/204 [==============================] - 21s 104ms/step - loss: 16.4869 - accuracy: 0.5543 - val_loss: 14.7815 - val_accuracy: 0.5154\n",
      "Epoch 7/10\n",
      "204/204 [==============================] - 21s 104ms/step - loss: 13.9177 - accuracy: 0.5997 - val_loss: 15.2499 - val_accuracy: 0.5104\n",
      "Epoch 8/10\n",
      "204/204 [==============================] - 21s 104ms/step - loss: 12.9820 - accuracy: 0.6105 - val_loss: 16.5228 - val_accuracy: 0.5032\n",
      "Epoch 9/10\n",
      "204/204 [==============================] - 21s 104ms/step - loss: 11.3706 - accuracy: 0.6278 - val_loss: 19.2855 - val_accuracy: 0.4968\n",
      "Epoch 10/10\n",
      "204/204 [==============================] - 21s 104ms/step - loss: 11.2753 - accuracy: 0.6405 - val_loss: 21.2725 - val_accuracy: 0.4939\n",
      "44/44 [==============================] - 5s 105ms/step - loss: 22.7476 - accuracy: 0.4749\n",
      "Test accuracy: 47.49%\n"
     ]
    }
   ],
   "source": [
    "from sklearn.model_selection import train_test_split\n",
    "\n",
    "# Diviser les données en ensembles d'entraînement, de validation et de test\n",
    "x_train, x_temp, y_train, y_temp = train_test_split(x, y_one_hot, test_size=0.3, random_state=42)\n",
    "x_val, x_test, y_val, y_test = train_test_split(x_temp, y_temp, test_size=0.5, random_state=42)\n",
    "\n",
    "from tensorflow.keras.applications import VGG16\n",
    "from tensorflow.keras import layers, models\n",
    "\n",
    "# Charger VGG16 pré-entraîné sur ImageNet et sans les couches entièrement connectées\n",
    "base_model = VGG16(weights='imagenet', include_top=False, input_shape=(150, 150, 3))\n",
    "\n",
    "# Geler les couches du modèle de base\n",
    "for layer in base_model.layers:\n",
    "    layer.trainable = False\n",
    "\n",
    "# Créer le modèle personnalisé\n",
    "model = models.Sequential()\n",
    "model.add(base_model)\n",
    "model.add(layers.Flatten())\n",
    "model.add(layers.Dense(256, activation='relu'))\n",
    "model.add(layers.Dropout(0.5))\n",
    "model.add(layers.Dense(3, activation='softmax'))  # Utiliser 'softmax' pour 3 classes\n",
    "\n",
    "# Compilation du modèle\n",
    "model.compile(optimizer='adam', loss='categorical_crossentropy', metrics=['accuracy'])\n",
    "\n",
    "# Entraînement\n",
    "model.fit(x_train, y_train, epochs=10, batch_size=32, validation_data=(x_val, y_val))\n",
    "\n",
    "# Évaluer le modèle sur les données de test\n",
    "test_loss, test_accuracy = model.evaluate(x_test, y_test)\n",
    "print(\"Test accuracy: {:.2f}%\".format(test_accuracy * 100))\n"
   ]
  },
  {
   "cell_type": "code",
   "execution_count": 13,
   "metadata": {},
   "outputs": [
    {
     "name": "stderr",
     "output_type": "stream",
     "text": [
      "/Users/athena/Documents/exo/exo-env/lib/python3.11/site-packages/keras/src/engine/training.py:3079: UserWarning: You are saving your model as an HDF5 file via `model.save()`. This file format is considered legacy. We recommend using instead the native Keras format, e.g. `model.save('my_model.keras')`.\n",
      "  saving_api.save_model(\n"
     ]
    }
   ],
   "source": [
    "# Sauvegarder le modèle entier\n",
    "model.save(\"my_model.h5\")\n"
   ]
  },
  {
   "cell_type": "code",
   "execution_count": 34,
   "metadata": {},
   "outputs": [],
   "source": [
    "# image = cv2.imread(\"chauss.jpeg\")\n",
    "# print(image)"
   ]
  },
  {
   "cell_type": "code",
   "execution_count": 17,
   "metadata": {},
   "outputs": [
    {
     "name": "stdout",
     "output_type": "stream",
     "text": [
      "-rw-r--r--@ 1 athena  staff   5.9K Oct 16 12:50 chauss.jpeg\n"
     ]
    }
   ],
   "source": [
    "!ls -lh chauss.jpeg"
   ]
  },
  {
   "cell_type": "code",
   "execution_count": 35,
   "metadata": {},
   "outputs": [],
   "source": [
    "import cv2\n",
    "import numpy as np\n",
    "\n",
    "# Charger une image avec OpenCV\n",
    "# image = cv2.imread(\"chauss.jpeg\")\n",
    "# image = cv2.imread(\"chauNeuv.jpeg\")\n",
    "# image = cv2.imread(\"chaBof.jpeg\")\n",
    "image = cv2.imread(\"IMG_6866.jpg\")\n",
    "\n",
    "# Redimensionner l'image à 150x150\n",
    "image_resized = cv2.resize(image, (150, 150))\n",
    "\n",
    "# Normaliser l'image\n",
    "image_normalized = image_resized / 255.0\n",
    "\n",
    "# Redimensionner l'image pour ajouter une dimension de batch\n",
    "image_batch = np.expand_dims(image_normalized, axis=0)\n"
   ]
  },
  {
   "cell_type": "code",
   "execution_count": 36,
   "metadata": {},
   "outputs": [
    {
     "name": "stdout",
     "output_type": "stream",
     "text": [
      "1/1 [==============================] - 0s 17ms/step\n",
      "Classe prédite: 2\n"
     ]
    }
   ],
   "source": [
    "# Effectuer une prédiction\n",
    "predictions = model.predict(image_batch)\n",
    "\n",
    "# Obtenir l'indice de la classe prédite\n",
    "predicted_class = np.argmax(predictions[0])\n",
    "\n",
    "print(\"Classe prédite:\", predicted_class)\n"
   ]
  },
  {
   "cell_type": "code",
   "execution_count": null,
   "metadata": {},
   "outputs": [],
   "source": []
  }
 ],
 "metadata": {
  "kernelspec": {
   "display_name": "exo-env",
   "language": "python",
   "name": "python3"
  },
  "language_info": {
   "codemirror_mode": {
    "name": "ipython",
    "version": 3
   },
   "file_extension": ".py",
   "mimetype": "text/x-python",
   "name": "python",
   "nbconvert_exporter": "python",
   "pygments_lexer": "ipython3",
   "version": "3.11.4"
  },
  "orig_nbformat": 4
 },
 "nbformat": 4,
 "nbformat_minor": 2
}
