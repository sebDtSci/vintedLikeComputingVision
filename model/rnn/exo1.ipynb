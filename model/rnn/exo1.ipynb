{
 "cells": [
  {
   "cell_type": "code",
   "execution_count": 2,
   "metadata": {},
   "outputs": [
    {
     "name": "stdout",
     "output_type": "stream",
     "text": [
      "Collecting absl-py==2.0.0 (from -r requirements.txt (line 1))\n",
      "  Downloading absl_py-2.0.0-py3-none-any.whl.metadata (2.3 kB)\n",
      "Requirement already satisfied: appnope==0.1.3 in /Users/athena/Documents/ecole/vintedLikeComputingVision/app-env/lib/python3.11/site-packages (from -r requirements.txt (line 2)) (0.1.3)\n",
      "Requirement already satisfied: asttokens==2.4.0 in /Users/athena/Documents/ecole/vintedLikeComputingVision/app-env/lib/python3.11/site-packages (from -r requirements.txt (line 3)) (2.4.0)\n",
      "Collecting astunparse==1.6.3 (from -r requirements.txt (line 4))\n",
      "  Downloading astunparse-1.6.3-py2.py3-none-any.whl (12 kB)\n",
      "Requirement already satisfied: backcall==0.2.0 in /Users/athena/Documents/ecole/vintedLikeComputingVision/app-env/lib/python3.11/site-packages (from -r requirements.txt (line 5)) (0.2.0)\n",
      "Collecting cachetools==5.3.1 (from -r requirements.txt (line 6))\n",
      "  Downloading cachetools-5.3.1-py3-none-any.whl.metadata (5.2 kB)\n",
      "Requirement already satisfied: certifi==2023.7.22 in /Users/athena/Documents/ecole/vintedLikeComputingVision/app-env/lib/python3.11/site-packages (from -r requirements.txt (line 7)) (2023.7.22)\n",
      "Requirement already satisfied: charset-normalizer==3.3.0 in /Users/athena/Documents/ecole/vintedLikeComputingVision/app-env/lib/python3.11/site-packages (from -r requirements.txt (line 8)) (3.3.0)\n",
      "Requirement already satisfied: comm==0.1.4 in /Users/athena/Documents/ecole/vintedLikeComputingVision/app-env/lib/python3.11/site-packages (from -r requirements.txt (line 9)) (0.1.4)\n",
      "Requirement already satisfied: debugpy==1.8.0 in /Users/athena/Documents/ecole/vintedLikeComputingVision/app-env/lib/python3.11/site-packages (from -r requirements.txt (line 10)) (1.8.0)\n",
      "Requirement already satisfied: decorator==5.1.1 in /Users/athena/Documents/ecole/vintedLikeComputingVision/app-env/lib/python3.11/site-packages (from -r requirements.txt (line 11)) (5.1.1)\n",
      "Collecting et-xmlfile==1.1.0 (from -r requirements.txt (line 12))\n",
      "  Downloading et_xmlfile-1.1.0-py3-none-any.whl (4.7 kB)\n",
      "Requirement already satisfied: executing==2.0.0 in /Users/athena/Documents/ecole/vintedLikeComputingVision/app-env/lib/python3.11/site-packages (from -r requirements.txt (line 13)) (2.0.0)\n",
      "Collecting flatbuffers==23.5.26 (from -r requirements.txt (line 14))\n",
      "  Downloading flatbuffers-23.5.26-py2.py3-none-any.whl.metadata (850 bytes)\n",
      "Collecting gast==0.5.4 (from -r requirements.txt (line 15))\n",
      "  Downloading gast-0.5.4-py3-none-any.whl (19 kB)\n",
      "Collecting google-auth==2.23.3 (from -r requirements.txt (line 16))\n",
      "  Downloading google_auth-2.23.3-py2.py3-none-any.whl.metadata (4.2 kB)\n",
      "Collecting google-auth-oauthlib==1.0.0 (from -r requirements.txt (line 17))\n",
      "  Downloading google_auth_oauthlib-1.0.0-py2.py3-none-any.whl (18 kB)\n",
      "Collecting google-pasta==0.2.0 (from -r requirements.txt (line 18))\n",
      "  Downloading google_pasta-0.2.0-py3-none-any.whl (57 kB)\n",
      "\u001b[2K     \u001b[90m━━━━━━━━━━━━━━━━━━━━━━━━━━━━━━━━━━━━━━━\u001b[0m \u001b[32m57.5/57.5 kB\u001b[0m \u001b[31m782.0 kB/s\u001b[0m eta \u001b[36m0:00:00\u001b[0m \u001b[36m0:00:01\u001b[0m\n",
      "\u001b[?25hCollecting grpcio==1.59.0 (from -r requirements.txt (line 19))\n",
      "  Downloading grpcio-1.59.0-cp311-cp311-macosx_10_10_universal2.whl.metadata (4.0 kB)\n",
      "Collecting h5py==3.10.0 (from -r requirements.txt (line 20))\n",
      "  Downloading h5py-3.10.0-cp311-cp311-macosx_11_0_arm64.whl.metadata (2.5 kB)\n",
      "Requirement already satisfied: idna==3.4 in /Users/athena/Documents/ecole/vintedLikeComputingVision/app-env/lib/python3.11/site-packages (from -r requirements.txt (line 21)) (3.4)\n",
      "Requirement already satisfied: ipykernel==6.25.2 in /Users/athena/Documents/ecole/vintedLikeComputingVision/app-env/lib/python3.11/site-packages (from -r requirements.txt (line 22)) (6.25.2)\n",
      "Requirement already satisfied: ipython==8.16.1 in /Users/athena/Documents/ecole/vintedLikeComputingVision/app-env/lib/python3.11/site-packages (from -r requirements.txt (line 23)) (8.16.1)\n",
      "Requirement already satisfied: jedi==0.19.1 in /Users/athena/Documents/ecole/vintedLikeComputingVision/app-env/lib/python3.11/site-packages (from -r requirements.txt (line 24)) (0.19.1)\n",
      "Requirement already satisfied: joblib==1.3.2 in /Users/athena/Documents/ecole/vintedLikeComputingVision/app-env/lib/python3.11/site-packages (from -r requirements.txt (line 25)) (1.3.2)\n",
      "Requirement already satisfied: jupyter_client==8.4.0 in /Users/athena/Documents/ecole/vintedLikeComputingVision/app-env/lib/python3.11/site-packages (from -r requirements.txt (line 26)) (8.4.0)\n",
      "Requirement already satisfied: jupyter_core==5.4.0 in /Users/athena/Documents/ecole/vintedLikeComputingVision/app-env/lib/python3.11/site-packages (from -r requirements.txt (line 27)) (5.4.0)\n",
      "Collecting keras==2.14.0 (from -r requirements.txt (line 28))\n",
      "  Downloading keras-2.14.0-py3-none-any.whl.metadata (2.4 kB)\n",
      "Collecting libclang==16.0.6 (from -r requirements.txt (line 29))\n",
      "  Downloading libclang-16.0.6-py2.py3-none-macosx_11_0_arm64.whl.metadata (5.2 kB)\n",
      "Collecting Markdown==3.5 (from -r requirements.txt (line 30))\n",
      "  Downloading Markdown-3.5-py3-none-any.whl.metadata (7.1 kB)\n",
      "Requirement already satisfied: MarkupSafe==2.1.3 in /Users/athena/Documents/ecole/vintedLikeComputingVision/app-env/lib/python3.11/site-packages (from -r requirements.txt (line 31)) (2.1.3)\n",
      "Requirement already satisfied: matplotlib-inline==0.1.6 in /Users/athena/Documents/ecole/vintedLikeComputingVision/app-env/lib/python3.11/site-packages (from -r requirements.txt (line 32)) (0.1.6)\n",
      "Collecting ml-dtypes==0.2.0 (from -r requirements.txt (line 33))\n",
      "  Downloading ml_dtypes-0.2.0-cp311-cp311-macosx_10_9_universal2.whl.metadata (20 kB)\n",
      "Requirement already satisfied: nest-asyncio==1.5.8 in /Users/athena/Documents/ecole/vintedLikeComputingVision/app-env/lib/python3.11/site-packages (from -r requirements.txt (line 34)) (1.5.8)\n",
      "Collecting numpy==1.26.1 (from -r requirements.txt (line 35))\n",
      "  Downloading numpy-1.26.1-cp311-cp311-macosx_11_0_arm64.whl.metadata (115 kB)\n",
      "\u001b[2K     \u001b[90m━━━━━━━━━━━━━━━━━━━━━━━━━━━━━━━━━━━━━\u001b[0m \u001b[32m115.1/115.1 kB\u001b[0m \u001b[31m855.3 kB/s\u001b[0m eta \u001b[36m0:00:00\u001b[0ma \u001b[36m0:00:01\u001b[0m\n",
      "\u001b[?25hCollecting oauthlib==3.2.2 (from -r requirements.txt (line 36))\n",
      "  Downloading oauthlib-3.2.2-py3-none-any.whl (151 kB)\n",
      "\u001b[2K     \u001b[90m━━━━━━━━━━━━━━━━━━━━━━━━━━━━━━━━━━━━━━━\u001b[0m \u001b[32m151.7/151.7 kB\u001b[0m \u001b[31m6.6 MB/s\u001b[0m eta \u001b[36m0:00:00\u001b[0m\n",
      "\u001b[?25hCollecting opencv-python==4.8.1.78 (from -r requirements.txt (line 37))\n",
      "  Downloading opencv_python-4.8.1.78-cp37-abi3-macosx_11_0_arm64.whl.metadata (19 kB)\n",
      "Collecting openpyxl==3.1.2 (from -r requirements.txt (line 38))\n",
      "  Downloading openpyxl-3.1.2-py2.py3-none-any.whl (249 kB)\n",
      "\u001b[2K     \u001b[90m━━━━━━━━━━━━━━━━━━━━━━━━━━━━━━━━━━━━━━━\u001b[0m \u001b[32m250.0/250.0 kB\u001b[0m \u001b[31m4.9 MB/s\u001b[0m eta \u001b[36m0:00:00\u001b[0ma \u001b[36m0:00:01\u001b[0m\n",
      "\u001b[?25hCollecting opt-einsum==3.3.0 (from -r requirements.txt (line 39))\n",
      "  Downloading opt_einsum-3.3.0-py3-none-any.whl (65 kB)\n",
      "\u001b[2K     \u001b[90m━━━━━━━━━━━━━━━━━━━━━━━━━━━━━━━━━━━━━━━━\u001b[0m \u001b[32m65.5/65.5 kB\u001b[0m \u001b[31m5.4 MB/s\u001b[0m eta \u001b[36m0:00:00\u001b[0m\n",
      "\u001b[?25hRequirement already satisfied: packaging==23.2 in /Users/athena/Documents/ecole/vintedLikeComputingVision/app-env/lib/python3.11/site-packages (from -r requirements.txt (line 40)) (23.2)\n",
      "Collecting pandas==2.1.1 (from -r requirements.txt (line 41))\n",
      "  Downloading pandas-2.1.1-cp311-cp311-macosx_11_0_arm64.whl.metadata (18 kB)\n",
      "Requirement already satisfied: parso==0.8.3 in /Users/athena/Documents/ecole/vintedLikeComputingVision/app-env/lib/python3.11/site-packages (from -r requirements.txt (line 42)) (0.8.3)\n",
      "Requirement already satisfied: pexpect==4.8.0 in /Users/athena/Documents/ecole/vintedLikeComputingVision/app-env/lib/python3.11/site-packages (from -r requirements.txt (line 43)) (4.8.0)\n",
      "Requirement already satisfied: pickleshare==0.7.5 in /Users/athena/Documents/ecole/vintedLikeComputingVision/app-env/lib/python3.11/site-packages (from -r requirements.txt (line 44)) (0.7.5)\n",
      "Collecting Pillow==10.1.0 (from -r requirements.txt (line 45))\n",
      "  Downloading Pillow-10.1.0-cp311-cp311-macosx_11_0_arm64.whl.metadata (9.5 kB)\n",
      "Requirement already satisfied: platformdirs==3.11.0 in /Users/athena/Documents/ecole/vintedLikeComputingVision/app-env/lib/python3.11/site-packages (from -r requirements.txt (line 46)) (3.11.0)\n",
      "Requirement already satisfied: prompt-toolkit==3.0.39 in /Users/athena/Documents/ecole/vintedLikeComputingVision/app-env/lib/python3.11/site-packages (from -r requirements.txt (line 47)) (3.0.39)\n",
      "Collecting protobuf==4.24.4 (from -r requirements.txt (line 48))\n",
      "  Downloading protobuf-4.24.4-cp37-abi3-macosx_10_9_universal2.whl.metadata (540 bytes)\n",
      "Collecting psutil==5.9.6 (from -r requirements.txt (line 49))\n",
      "  Downloading psutil-5.9.6-cp38-abi3-macosx_11_0_arm64.whl.metadata (21 kB)\n",
      "Requirement already satisfied: ptyprocess==0.7.0 in /Users/athena/Documents/ecole/vintedLikeComputingVision/app-env/lib/python3.11/site-packages (from -r requirements.txt (line 50)) (0.7.0)\n",
      "Requirement already satisfied: pure-eval==0.2.2 in /Users/athena/Documents/ecole/vintedLikeComputingVision/app-env/lib/python3.11/site-packages (from -r requirements.txt (line 51)) (0.2.2)\n",
      "Collecting pyasn1==0.5.0 (from -r requirements.txt (line 52))\n",
      "  Downloading pyasn1-0.5.0-py2.py3-none-any.whl (83 kB)\n",
      "\u001b[2K     \u001b[90m━━━━━━━━━━━━━━━━━━━━━━━━━━━━━━━━━━━━━━━━\u001b[0m \u001b[32m83.9/83.9 kB\u001b[0m \u001b[31m5.0 MB/s\u001b[0m eta \u001b[36m0:00:00\u001b[0m\n",
      "\u001b[?25hCollecting pyasn1-modules==0.3.0 (from -r requirements.txt (line 53))\n",
      "  Downloading pyasn1_modules-0.3.0-py2.py3-none-any.whl (181 kB)\n",
      "\u001b[2K     \u001b[90m━━━━━━━━━━━━━━━━━━━━━━━━━━━━━━━━━━━━━━━\u001b[0m \u001b[32m181.3/181.3 kB\u001b[0m \u001b[31m1.4 MB/s\u001b[0m eta \u001b[36m0:00:00\u001b[0ma \u001b[36m0:00:01\u001b[0m\n",
      "\u001b[?25hRequirement already satisfied: Pygments==2.16.1 in /Users/athena/Documents/ecole/vintedLikeComputingVision/app-env/lib/python3.11/site-packages (from -r requirements.txt (line 54)) (2.16.1)\n",
      "Requirement already satisfied: python-dateutil==2.8.2 in /Users/athena/Documents/ecole/vintedLikeComputingVision/app-env/lib/python3.11/site-packages (from -r requirements.txt (line 55)) (2.8.2)\n",
      "Collecting pytz==2023.3.post1 (from -r requirements.txt (line 56))\n",
      "  Downloading pytz-2023.3.post1-py2.py3-none-any.whl.metadata (22 kB)\n",
      "Requirement already satisfied: pyzmq==25.1.1 in /Users/athena/Documents/ecole/vintedLikeComputingVision/app-env/lib/python3.11/site-packages (from -r requirements.txt (line 57)) (25.1.1)\n",
      "Requirement already satisfied: requests==2.31.0 in /Users/athena/Documents/ecole/vintedLikeComputingVision/app-env/lib/python3.11/site-packages (from -r requirements.txt (line 58)) (2.31.0)\n",
      "Collecting requests-oauthlib==1.3.1 (from -r requirements.txt (line 59))\n",
      "  Downloading requests_oauthlib-1.3.1-py2.py3-none-any.whl (23 kB)\n",
      "Collecting rsa==4.9 (from -r requirements.txt (line 60))\n",
      "  Downloading rsa-4.9-py3-none-any.whl (34 kB)\n",
      "Requirement already satisfied: scikit-learn==1.3.1 in /Users/athena/Documents/ecole/vintedLikeComputingVision/app-env/lib/python3.11/site-packages (from -r requirements.txt (line 61)) (1.3.1)\n",
      "Requirement already satisfied: scipy==1.11.3 in /Users/athena/Documents/ecole/vintedLikeComputingVision/app-env/lib/python3.11/site-packages (from -r requirements.txt (line 62)) (1.11.3)\n",
      "Requirement already satisfied: six==1.16.0 in /Users/athena/Documents/ecole/vintedLikeComputingVision/app-env/lib/python3.11/site-packages (from -r requirements.txt (line 63)) (1.16.0)\n",
      "Requirement already satisfied: stack-data==0.6.3 in /Users/athena/Documents/ecole/vintedLikeComputingVision/app-env/lib/python3.11/site-packages (from -r requirements.txt (line 64)) (0.6.3)\n",
      "Collecting tensorboard==2.14.1 (from -r requirements.txt (line 65))\n",
      "  Downloading tensorboard-2.14.1-py3-none-any.whl.metadata (1.7 kB)\n",
      "Collecting tensorboard-data-server==0.7.1 (from -r requirements.txt (line 66))\n",
      "  Downloading tensorboard_data_server-0.7.1-py3-none-any.whl.metadata (1.1 kB)\n",
      "Collecting tensorflow==2.14.0 (from -r requirements.txt (line 67))\n",
      "  Downloading tensorflow-2.14.0-cp311-cp311-macosx_12_0_arm64.whl.metadata (3.3 kB)\n",
      "Collecting tensorflow-estimator==2.14.0 (from -r requirements.txt (line 68))\n",
      "  Downloading tensorflow_estimator-2.14.0-py2.py3-none-any.whl.metadata (1.3 kB)\n",
      "Collecting tensorflow-io-gcs-filesystem==0.34.0 (from -r requirements.txt (line 69))\n",
      "  Downloading tensorflow_io_gcs_filesystem-0.34.0-cp311-cp311-macosx_12_0_arm64.whl.metadata (14 kB)\n",
      "Collecting tensorflow-macos==2.14.0 (from -r requirements.txt (line 70))\n",
      "  Downloading tensorflow_macos-2.14.0-cp311-cp311-macosx_12_0_arm64.whl.metadata (3.9 kB)\n",
      "Collecting tensorflow-metal==1.1.0 (from -r requirements.txt (line 71))\n",
      "  Downloading tensorflow_metal-1.1.0-cp311-cp311-macosx_12_0_arm64.whl.metadata (1.2 kB)\n",
      "Collecting termcolor==2.3.0 (from -r requirements.txt (line 72))\n",
      "  Downloading termcolor-2.3.0-py3-none-any.whl (6.9 kB)\n",
      "Requirement already satisfied: threadpoolctl==3.2.0 in /Users/athena/Documents/ecole/vintedLikeComputingVision/app-env/lib/python3.11/site-packages (from -r requirements.txt (line 73)) (3.2.0)\n",
      "Requirement already satisfied: tornado==6.3.3 in /Users/athena/Documents/ecole/vintedLikeComputingVision/app-env/lib/python3.11/site-packages (from -r requirements.txt (line 74)) (6.3.3)\n",
      "Requirement already satisfied: tqdm==4.66.1 in /Users/athena/Documents/ecole/vintedLikeComputingVision/app-env/lib/python3.11/site-packages (from -r requirements.txt (line 75)) (4.66.1)\n",
      "Requirement already satisfied: traitlets==5.11.2 in /Users/athena/Documents/ecole/vintedLikeComputingVision/app-env/lib/python3.11/site-packages (from -r requirements.txt (line 76)) (5.11.2)\n",
      "Requirement already satisfied: typing_extensions==4.8.0 in /Users/athena/Documents/ecole/vintedLikeComputingVision/app-env/lib/python3.11/site-packages (from -r requirements.txt (line 77)) (4.8.0)\n",
      "Collecting tzdata==2023.3 (from -r requirements.txt (line 78))\n",
      "  Downloading tzdata-2023.3-py2.py3-none-any.whl (341 kB)\n",
      "\u001b[2K     \u001b[90m━━━━━━━━━━━━━━━━━━━━━━━━━━━━━━━━━━━━━━━\u001b[0m \u001b[32m341.8/341.8 kB\u001b[0m \u001b[31m1.7 MB/s\u001b[0m eta \u001b[36m0:00:00\u001b[0ma \u001b[36m0:00:01\u001b[0m\n",
      "\u001b[?25hRequirement already satisfied: urllib3==2.0.6 in /Users/athena/Documents/ecole/vintedLikeComputingVision/app-env/lib/python3.11/site-packages (from -r requirements.txt (line 79)) (2.0.6)\n",
      "Requirement already satisfied: wcwidth==0.2.8 in /Users/athena/Documents/ecole/vintedLikeComputingVision/app-env/lib/python3.11/site-packages (from -r requirements.txt (line 80)) (0.2.8)\n",
      "Collecting Werkzeug==3.0.0 (from -r requirements.txt (line 81))\n",
      "  Downloading werkzeug-3.0.0-py3-none-any.whl.metadata (4.1 kB)\n",
      "Collecting wrapt==1.14.1 (from -r requirements.txt (line 82))\n",
      "  Downloading wrapt-1.14.1-cp311-cp311-macosx_11_0_arm64.whl.metadata (6.7 kB)\n",
      "Collecting wheel<1.0,>=0.23.0 (from astunparse==1.6.3->-r requirements.txt (line 4))\n",
      "  Using cached wheel-0.41.2-py3-none-any.whl.metadata (2.2 kB)\n",
      "Requirement already satisfied: setuptools>=41.0.0 in /Users/athena/Documents/ecole/vintedLikeComputingVision/app-env/lib/python3.11/site-packages (from tensorboard==2.14.1->-r requirements.txt (line 65)) (68.0.0)\n",
      "Downloading absl_py-2.0.0-py3-none-any.whl (130 kB)\n",
      "\u001b[2K   \u001b[90m━━━━━━━━━━━━━━━━━━━━━━━━━━━━━━━━━━━━━━━━\u001b[0m \u001b[32m130.2/130.2 kB\u001b[0m \u001b[31m1.8 MB/s\u001b[0m eta \u001b[36m0:00:00\u001b[0ma \u001b[36m0:00:01\u001b[0m\n",
      "\u001b[?25hDownloading cachetools-5.3.1-py3-none-any.whl (9.3 kB)\n",
      "Downloading flatbuffers-23.5.26-py2.py3-none-any.whl (26 kB)\n",
      "Downloading google_auth-2.23.3-py2.py3-none-any.whl (182 kB)\n",
      "\u001b[2K   \u001b[90m━━━━━━━━━━━━━━━━━━━━━━━━━━━━━━━━━━━━━━━━\u001b[0m \u001b[32m182.3/182.3 kB\u001b[0m \u001b[31m4.4 MB/s\u001b[0m eta \u001b[36m0:00:00\u001b[0ma \u001b[36m0:00:01\u001b[0m\n",
      "\u001b[?25hDownloading grpcio-1.59.0-cp311-cp311-macosx_10_10_universal2.whl (9.5 MB)\n",
      "\u001b[2K   \u001b[90m━━━━━━━━━━━━━━━━━━━━━━━━━━━━━━━━━━━━━━━━\u001b[0m \u001b[32m9.5/9.5 MB\u001b[0m \u001b[31m4.2 MB/s\u001b[0m eta \u001b[36m0:00:00\u001b[0ma \u001b[36m0:00:01\u001b[0m\n",
      "\u001b[?25hDownloading h5py-3.10.0-cp311-cp311-macosx_11_0_arm64.whl (2.6 MB)\n",
      "\u001b[2K   \u001b[90m━━━━━━━━━━━━━━━━━━━━━━━━━━━━━━━━━━━━━━━━\u001b[0m \u001b[32m2.6/2.6 MB\u001b[0m \u001b[31m941.8 kB/s\u001b[0m eta \u001b[36m0:00:00\u001b[0ma \u001b[36m0:00:01\u001b[0m\n",
      "\u001b[?25hDownloading keras-2.14.0-py3-none-any.whl (1.7 MB)\n",
      "\u001b[2K   \u001b[90m━━━━━━━━━━━━━━━━━━━━━━━━━━━━━━━━━━━━━━━━\u001b[0m \u001b[32m1.7/1.7 MB\u001b[0m \u001b[31m3.6 MB/s\u001b[0m eta \u001b[36m0:00:00\u001b[0m00:01\u001b[0m00:01\u001b[0m\n",
      "\u001b[?25hDownloading libclang-16.0.6-py2.py3-none-macosx_11_0_arm64.whl (20.6 MB)\n",
      "\u001b[2K   \u001b[90m━━━━━━━━━━━━━━━━━━━━━━━━━━━━━━━━━━━━━━━━\u001b[0m \u001b[32m20.6/20.6 MB\u001b[0m \u001b[31m5.1 MB/s\u001b[0m eta \u001b[36m0:00:00\u001b[0m00:01\u001b[0m00:01\u001b[0m\n",
      "\u001b[?25hDownloading Markdown-3.5-py3-none-any.whl (101 kB)\n",
      "\u001b[2K   \u001b[90m━━━━━━━━━━━━━━━━━━━━━━━━━━━━━━━━━━━━━━━━\u001b[0m \u001b[32m101.7/101.7 kB\u001b[0m \u001b[31m10.7 MB/s\u001b[0m eta \u001b[36m0:00:00\u001b[0m\n",
      "\u001b[?25hDownloading ml_dtypes-0.2.0-cp311-cp311-macosx_10_9_universal2.whl (1.2 MB)\n",
      "\u001b[2K   \u001b[90m━━━━━━━━━━━━━━━━━━━━━━━━━━━━━━━━━━━━━━━━\u001b[0m \u001b[32m1.2/1.2 MB\u001b[0m \u001b[31m6.6 MB/s\u001b[0m eta \u001b[36m0:00:00\u001b[0ma \u001b[36m0:00:01\u001b[0m0m\n",
      "\u001b[?25hDownloading numpy-1.26.1-cp311-cp311-macosx_11_0_arm64.whl (14.0 MB)\n",
      "\u001b[2K   \u001b[90m━━━━━━━━━━━━━━━━━━━━━━━━━━━━━━━━━━━━━━━━\u001b[0m \u001b[32m14.0/14.0 MB\u001b[0m \u001b[31m5.8 MB/s\u001b[0m eta \u001b[36m0:00:00\u001b[0m00:01\u001b[0m00:01\u001b[0m\n",
      "\u001b[?25hDownloading opencv_python-4.8.1.78-cp37-abi3-macosx_11_0_arm64.whl (33.1 MB)\n",
      "\u001b[2K   \u001b[90m━━━━━━━━━━━━━━━━━━━━━━━━━━━━━━━━━━━━━━━━\u001b[0m \u001b[32m33.1/33.1 MB\u001b[0m \u001b[31m5.7 MB/s\u001b[0m eta \u001b[36m0:00:00\u001b[0m00:01\u001b[0m00:01\u001b[0m\n",
      "\u001b[?25hDownloading pandas-2.1.1-cp311-cp311-macosx_11_0_arm64.whl (10.8 MB)\n",
      "\u001b[2K   \u001b[90m━━━━━━━━━━━━━━━━━━━━━━━━━━━━━━━━━━━━━━━━\u001b[0m \u001b[32m10.8/10.8 MB\u001b[0m \u001b[31m6.1 MB/s\u001b[0m eta \u001b[36m0:00:00\u001b[0m00:01\u001b[0m00:01\u001b[0m\n",
      "\u001b[?25hDownloading Pillow-10.1.0-cp311-cp311-macosx_11_0_arm64.whl (3.3 MB)\n",
      "\u001b[2K   \u001b[90m━━━━━━━━━━━━━━━━━━━━━━━━━━━━━━━━━━━━━━━━\u001b[0m \u001b[32m3.3/3.3 MB\u001b[0m \u001b[31m7.5 MB/s\u001b[0m eta \u001b[36m0:00:00\u001b[0ma \u001b[36m0:00:01\u001b[0mm\n",
      "\u001b[?25hDownloading protobuf-4.24.4-cp37-abi3-macosx_10_9_universal2.whl (409 kB)\n",
      "\u001b[2K   \u001b[90m━━━━━━━━━━━━━━━━━━━━━━━━━━━━━━━━━━━━━━━━\u001b[0m \u001b[32m409.4/409.4 kB\u001b[0m \u001b[31m9.8 MB/s\u001b[0m eta \u001b[36m0:00:00\u001b[0mta \u001b[36m0:00:01\u001b[0m\n",
      "\u001b[?25hDownloading psutil-5.9.6-cp38-abi3-macosx_11_0_arm64.whl (246 kB)\n",
      "\u001b[2K   \u001b[90m━━━━━━━━━━━━━━━━━━━━━━━━━━━━━━━━━━━━━━━━\u001b[0m \u001b[32m246.9/246.9 kB\u001b[0m \u001b[31m5.6 MB/s\u001b[0m eta \u001b[36m0:00:00\u001b[0m00:01\u001b[0m\n",
      "\u001b[?25hDownloading pytz-2023.3.post1-py2.py3-none-any.whl (502 kB)\n",
      "\u001b[2K   \u001b[90m━━━━━━━━━━━━━━━━━━━━━━━━━━━━━━━━━━━━━━━━\u001b[0m \u001b[32m502.5/502.5 kB\u001b[0m \u001b[31m7.4 MB/s\u001b[0m eta \u001b[36m0:00:00\u001b[0ma \u001b[36m0:00:01\u001b[0mm\n",
      "\u001b[?25hDownloading tensorboard-2.14.1-py3-none-any.whl (5.5 MB)\n",
      "\u001b[2K   \u001b[90m━━━━━━━━━━━━━━━━━━━━━━━━━━━━━━━━━━━━━━━━\u001b[0m \u001b[32m5.5/5.5 MB\u001b[0m \u001b[31m1.9 MB/s\u001b[0m eta \u001b[36m0:00:00\u001b[0m00:01\u001b[0m00:01\u001b[0m\n",
      "\u001b[?25hDownloading tensorboard_data_server-0.7.1-py3-none-any.whl (2.4 kB)\n",
      "Downloading tensorflow-2.14.0-cp311-cp311-macosx_12_0_arm64.whl (2.1 kB)\n",
      "Downloading tensorflow_estimator-2.14.0-py2.py3-none-any.whl (440 kB)\n",
      "\u001b[2K   \u001b[90m━━━━━━━━━━━━━━━━━━━━━━━━━━━━━━━━━━━━━━━━\u001b[0m \u001b[32m440.7/440.7 kB\u001b[0m \u001b[31m2.0 MB/s\u001b[0m eta \u001b[36m0:00:00\u001b[0ma \u001b[36m0:00:01\u001b[0m\n",
      "\u001b[?25hDownloading tensorflow_io_gcs_filesystem-0.34.0-cp311-cp311-macosx_12_0_arm64.whl (1.9 MB)\n",
      "\u001b[2K   \u001b[90m━━━━━━━━━━━━━━━━━━━━━━━━━━━━━━━━━━━━━━━━\u001b[0m \u001b[32m1.9/1.9 MB\u001b[0m \u001b[31m5.1 MB/s\u001b[0m eta \u001b[36m0:00:00\u001b[0m00:01\u001b[0m00:01\u001b[0m\n",
      "\u001b[?25hDownloading tensorflow_macos-2.14.0-cp311-cp311-macosx_12_0_arm64.whl (199.7 MB)\n",
      "\u001b[2K   \u001b[90m━━━━━━━━━━━━━━━━━━━━━━━━━━━━━━━━━━━━━━━━\u001b[0m \u001b[32m199.7/199.7 MB\u001b[0m \u001b[31m3.4 MB/s\u001b[0m eta \u001b[36m0:00:00\u001b[0m00:01\u001b[0m00:02\u001b[0m\n",
      "\u001b[?25hDownloading tensorflow_metal-1.1.0-cp311-cp311-macosx_12_0_arm64.whl (1.4 MB)\n",
      "\u001b[2K   \u001b[90m━━━━━━━━━━━━━━━━━━━━━━━━━━━━━━━━━━━━━━━━\u001b[0m \u001b[32m1.4/1.4 MB\u001b[0m \u001b[31m5.6 MB/s\u001b[0m eta \u001b[36m0:00:00\u001b[0ma \u001b[36m0:00:01\u001b[0m\n",
      "\u001b[?25hDownloading werkzeug-3.0.0-py3-none-any.whl (226 kB)\n",
      "\u001b[2K   \u001b[90m━━━━━━━━━━━━━━━━━━━━━━━━━━━━━━━━━━━━━━━━\u001b[0m \u001b[32m226.6/226.6 kB\u001b[0m \u001b[31m4.8 MB/s\u001b[0m eta \u001b[36m0:00:00\u001b[0mta \u001b[36m0:00:01\u001b[0m\n",
      "\u001b[?25hDownloading wrapt-1.14.1-cp311-cp311-macosx_11_0_arm64.whl (36 kB)\n",
      "Using cached wheel-0.41.2-py3-none-any.whl (64 kB)\n",
      "Installing collected packages: pytz, libclang, flatbuffers, wrapt, wheel, Werkzeug, tzdata, termcolor, tensorflow-io-gcs-filesystem, tensorflow-estimator, tensorboard-data-server, pyasn1, psutil, protobuf, Pillow, oauthlib, numpy, Markdown, keras, grpcio, google-pasta, gast, et-xmlfile, cachetools, absl-py, tensorflow-metal, rsa, requests-oauthlib, pyasn1-modules, pandas, opt-einsum, openpyxl, opencv-python, ml-dtypes, h5py, astunparse, google-auth, google-auth-oauthlib, tensorboard, tensorflow-macos, tensorflow\n",
      "  Attempting uninstall: Werkzeug\n",
      "    Found existing installation: Werkzeug 2.3.7\n",
      "    Uninstalling Werkzeug-2.3.7:\n",
      "      Successfully uninstalled Werkzeug-2.3.7\n",
      "  Attempting uninstall: psutil\n",
      "    Found existing installation: psutil 5.9.5\n",
      "    Uninstalling psutil-5.9.5:\n",
      "      Successfully uninstalled psutil-5.9.5\n",
      "  Attempting uninstall: numpy\n",
      "    Found existing installation: numpy 1.26.0\n",
      "    Uninstalling numpy-1.26.0:\n",
      "      Successfully uninstalled numpy-1.26.0\n",
      "Successfully installed Markdown-3.5 Pillow-10.1.0 Werkzeug-3.0.0 absl-py-2.0.0 astunparse-1.6.3 cachetools-5.3.1 et-xmlfile-1.1.0 flatbuffers-23.5.26 gast-0.5.4 google-auth-2.23.3 google-auth-oauthlib-1.0.0 google-pasta-0.2.0 grpcio-1.59.0 h5py-3.10.0 keras-2.14.0 libclang-16.0.6 ml-dtypes-0.2.0 numpy-1.26.1 oauthlib-3.2.2 opencv-python-4.8.1.78 openpyxl-3.1.2 opt-einsum-3.3.0 pandas-2.1.1 protobuf-4.24.4 psutil-5.9.6 pyasn1-0.5.0 pyasn1-modules-0.3.0 pytz-2023.3.post1 requests-oauthlib-1.3.1 rsa-4.9 tensorboard-2.14.1 tensorboard-data-server-0.7.1 tensorflow-2.14.0 tensorflow-estimator-2.14.0 tensorflow-io-gcs-filesystem-0.34.0 tensorflow-macos-2.14.0 tensorflow-metal-1.1.0 termcolor-2.3.0 tzdata-2023.3 wheel-0.41.2 wrapt-1.14.1\n"
     ]
    }
   ],
   "source": [
    "# !pip install -r requirements.txt\n",
    "# !pip install Pillow\n",
    "# !pip install rembg\n",
    "!pip install rembg[gpu]"
   ]
  },
  {
   "cell_type": "code",
   "execution_count": 1,
   "metadata": {},
   "outputs": [],
   "source": [
    "import pandas as pd\n",
    "import requests\n",
    "from PIL import Image\n",
    "from io import BytesIO\n",
    "import numpy as np\n",
    "import cv2\n",
    "from sklearn.preprocessing import LabelEncoder\n",
    "from tensorflow.keras.utils import to_categorical\n",
    "from tqdm import tqdm"
   ]
  },
  {
   "cell_type": "code",
   "execution_count": 2,
   "metadata": {},
   "outputs": [],
   "source": [
    "df = pd.read_excel('chaussuretresbonetat.xlsx') \n",
    "df2 = pd.read_excel('chaussurebonetat.xlsx') \n",
    "# df3 = pd.read_excel('chaussuresatisfaisant.xlsx')\n",
    "df4 = pd.read_excel('chaussureneufsansetiquette.xlsx')"
   ]
  },
  {
   "cell_type": "code",
   "execution_count": 3,
   "metadata": {},
   "outputs": [],
   "source": [
    "df = df.iloc[:,4:6]\n",
    "df2 = df2.iloc[:,4:6]\n",
    "# df3 = df3.iloc[:,4:6]\n",
    "df4 = df4.iloc[:,4:6]"
   ]
  },
  {
   "cell_type": "code",
   "execution_count": 4,
   "metadata": {},
   "outputs": [],
   "source": [
    "# frames = [df,df2,df3,df4]\n",
    "frames = [df,df2,df4]\n",
    "result = pd.concat(frames,ignore_index=True)\n",
    "result.to_csv('test.csv')"
   ]
  },
  {
   "cell_type": "code",
   "execution_count": 5,
   "metadata": {},
   "outputs": [
    {
     "name": "stderr",
     "output_type": "stream",
     "text": [
      "  2%|▏         | 194/9285 [01:26<1:07:17,  2.25it/s]\n"
     ]
    }
   ],
   "source": [
    "from rembg import remove\n",
    "from PIL import Image\n",
    "from concurrent.futures import ThreadPoolExecutor, as_completed\n",
    "\n",
    "\n",
    "imageLst = []\n",
    "labelLst = []\n",
    "\n",
    "def download_and_process(url, label):\n",
    "    try:\n",
    "        resp = session.get(url)\n",
    "        img = Image.open(BytesIO(resp.content))\n",
    "        \n",
    "        # Removing background\n",
    "        img_bytes = BytesIO(resp.content).read()\n",
    "        img_no_bg_bytes = remove(img_bytes)\n",
    "        img_no_bg = Image.open(BytesIO(img_no_bg_bytes))\n",
    "        \n",
    "        img_np = np.array(img_no_bg)\n",
    "        img_resized = cv2.resize(img_np, (150, 150))\n",
    "        return img_resized, label\n",
    "    except Exception as e:\n",
    "        print(f\"An error occurred: {e}\")\n",
    "        return None, None\n",
    "\n",
    "with requests.Session() as session:\n",
    "    with ThreadPoolExecutor(max_workers=20) as executor:\n",
    "        future_to_url = {executor.submit(download_and_process, url, label): url for url, label in zip(result['image-src'], result['Etat'])}\n",
    "        for future in tqdm(as_completed(future_to_url), total=len(future_to_url)):\n",
    "            img, label = future.result()\n",
    "            if img is not None:\n",
    "                imageLst.append(img)\n",
    "                labelLst.append(label)\n",
    "\n",
    "x = np.array(imageLst)\n",
    "y = np.array(labelLst)\n"
   ]
  },
  {
   "cell_type": "code",
   "execution_count": null,
   "metadata": {},
   "outputs": [
    {
     "name": "stderr",
     "output_type": "stream",
     "text": [
      "100%|██████████| 9285/9285 [01:59<00:00, 77.52it/s] \n"
     ]
    }
   ],
   "source": [
    "# from concurrent.futures import ThreadPoolExecutor, as_completed\n",
    "\n",
    "\n",
    "# imageLst = []\n",
    "# labelLst = []\n",
    "\n",
    "# def download_and_process(url, label):\n",
    "#     try:\n",
    "#         resp = session.get(url)\n",
    "#         img = Image.open(BytesIO(resp.content))\n",
    "#         img_np = np.array(img)\n",
    "#         img_resized = cv2.resize(img_np, (150, 150))\n",
    "#         return img_resized, label\n",
    "#     except:\n",
    "#         return None, None\n",
    "\n",
    "# with requests.Session() as session:\n",
    "#     with ThreadPoolExecutor() as executor:\n",
    "#         future_to_url = {executor.submit(download_and_process, url, label): url for url, label in zip(result['image-src'], result['Etat'])}\n",
    "#         for future in tqdm(as_completed(future_to_url), total=len(future_to_url)):\n",
    "#         # for future in as_completed(future_to_url):\n",
    "#             img, label = future.result()\n",
    "#             if img is not None:\n",
    "#                 imageLst.append(img)\n",
    "#                 labelLst.append(label)\n",
    "\n",
    "# x = np.array(imageLst)\n",
    "# y = np.array(labelLst)"
   ]
  },
  {
   "cell_type": "code",
   "execution_count": null,
   "metadata": {},
   "outputs": [
    {
     "name": "stderr",
     "output_type": "stream",
     "text": [
      "  0%|          | 0/12381 [00:00<?, ?it/s]"
     ]
    },
    {
     "name": "stderr",
     "output_type": "stream",
     "text": [
      " 11%|█         | 1363/12381 [04:28<26:02,  7.05it/s]  "
     ]
    }
   ],
   "source": [
    "# imageLst = []\n",
    "# labelLst = []\n",
    "\n",
    "# with requests.Session() as session:\n",
    "#     for i, url in enumerate(tqdm(result['image-src'])):\n",
    "#         try:\n",
    "#             resp = session.get(url)\n",
    "#             img = Image.open(BytesIO(resp.content))\n",
    "#             img_np = np.array(img)\n",
    "#             img_resized = cv2.resize(img_np, (150, 150))\n",
    "#             imageLst.append(img_resized)\n",
    "#             labelLst.append(result['Etat'][i])\n",
    "#         except:\n",
    "#             pass\n",
    "\n",
    "# # Convertir les listes en tableaux NumPy\n",
    "# x = np.array(imageLst)\n",
    "# y = np.array(labelLst)\n",
    "\n"
   ]
  },
  {
   "cell_type": "code",
   "execution_count": null,
   "metadata": {},
   "outputs": [
    {
     "name": "stdout",
     "output_type": "stream",
     "text": [
      "9284\n",
      "9284\n"
     ]
    }
   ],
   "source": [
    "print(len(x))\n",
    "print(len(y))"
   ]
  },
  {
   "cell_type": "code",
   "execution_count": null,
   "metadata": {},
   "outputs": [],
   "source": [
    "np.save(\"array_X.npy\", x)\n",
    "np.save(\"array_Y.npy\", y)"
   ]
  },
  {
   "cell_type": "code",
   "execution_count": null,
   "metadata": {},
   "outputs": [],
   "source": [
    "x = np.load(\"array_X.npy\")\n",
    "y = np.load(\"array_Y.npy\")"
   ]
  },
  {
   "cell_type": "code",
   "execution_count": null,
   "metadata": {},
   "outputs": [],
   "source": [
    "# Encodage des étiquettes\n",
    "label_encoder = LabelEncoder()\n",
    "y_encoded = label_encoder.fit_transform(y)\n",
    "y_one_hot = to_categorical(y_encoded)"
   ]
  },
  {
   "cell_type": "code",
   "execution_count": null,
   "metadata": {},
   "outputs": [
    {
     "name": "stdout",
     "output_type": "stream",
     "text": [
      "['bon etat' 'neuf sans etiquette' 'très bon etat']\n"
     ]
    }
   ],
   "source": [
    "print(label_encoder.classes_)"
   ]
  },
  {
   "cell_type": "code",
   "execution_count": null,
   "metadata": {},
   "outputs": [
    {
     "name": "stdout",
     "output_type": "stream",
     "text": [
      "Requirement already satisfied: tensorflow-macos in /Users/athena/Documents/ecole/vintedLikeComputingVision/app-env/lib/python3.11/site-packages (2.14.0)\n",
      "Requirement already satisfied: absl-py>=1.0.0 in /Users/athena/Documents/ecole/vintedLikeComputingVision/app-env/lib/python3.11/site-packages (from tensorflow-macos) (2.0.0)\n",
      "Requirement already satisfied: astunparse>=1.6.0 in /Users/athena/Documents/ecole/vintedLikeComputingVision/app-env/lib/python3.11/site-packages (from tensorflow-macos) (1.6.3)\n",
      "Requirement already satisfied: flatbuffers>=23.5.26 in /Users/athena/Documents/ecole/vintedLikeComputingVision/app-env/lib/python3.11/site-packages (from tensorflow-macos) (23.5.26)\n",
      "Requirement already satisfied: gast!=0.5.0,!=0.5.1,!=0.5.2,>=0.2.1 in /Users/athena/Documents/ecole/vintedLikeComputingVision/app-env/lib/python3.11/site-packages (from tensorflow-macos) (0.5.4)\n",
      "Requirement already satisfied: google-pasta>=0.1.1 in /Users/athena/Documents/ecole/vintedLikeComputingVision/app-env/lib/python3.11/site-packages (from tensorflow-macos) (0.2.0)\n",
      "Requirement already satisfied: h5py>=2.9.0 in /Users/athena/Documents/ecole/vintedLikeComputingVision/app-env/lib/python3.11/site-packages (from tensorflow-macos) (3.10.0)\n",
      "Requirement already satisfied: libclang>=13.0.0 in /Users/athena/Documents/ecole/vintedLikeComputingVision/app-env/lib/python3.11/site-packages (from tensorflow-macos) (16.0.6)\n",
      "Requirement already satisfied: ml-dtypes==0.2.0 in /Users/athena/Documents/ecole/vintedLikeComputingVision/app-env/lib/python3.11/site-packages (from tensorflow-macos) (0.2.0)\n",
      "Requirement already satisfied: numpy>=1.23.5 in /Users/athena/Documents/ecole/vintedLikeComputingVision/app-env/lib/python3.11/site-packages (from tensorflow-macos) (1.26.1)\n",
      "Requirement already satisfied: opt-einsum>=2.3.2 in /Users/athena/Documents/ecole/vintedLikeComputingVision/app-env/lib/python3.11/site-packages (from tensorflow-macos) (3.3.0)\n",
      "Requirement already satisfied: packaging in /Users/athena/Documents/ecole/vintedLikeComputingVision/app-env/lib/python3.11/site-packages (from tensorflow-macos) (23.2)\n",
      "Requirement already satisfied: protobuf!=4.21.0,!=4.21.1,!=4.21.2,!=4.21.3,!=4.21.4,!=4.21.5,<5.0.0dev,>=3.20.3 in /Users/athena/Documents/ecole/vintedLikeComputingVision/app-env/lib/python3.11/site-packages (from tensorflow-macos) (4.24.4)\n",
      "Requirement already satisfied: setuptools in /Users/athena/Documents/ecole/vintedLikeComputingVision/app-env/lib/python3.11/site-packages (from tensorflow-macos) (68.0.0)\n",
      "Requirement already satisfied: six>=1.12.0 in /Users/athena/Documents/ecole/vintedLikeComputingVision/app-env/lib/python3.11/site-packages (from tensorflow-macos) (1.16.0)\n",
      "Requirement already satisfied: termcolor>=1.1.0 in /Users/athena/Documents/ecole/vintedLikeComputingVision/app-env/lib/python3.11/site-packages (from tensorflow-macos) (2.3.0)\n",
      "Requirement already satisfied: typing-extensions>=3.6.6 in /Users/athena/Documents/ecole/vintedLikeComputingVision/app-env/lib/python3.11/site-packages (from tensorflow-macos) (4.8.0)\n",
      "Requirement already satisfied: wrapt<1.15,>=1.11.0 in /Users/athena/Documents/ecole/vintedLikeComputingVision/app-env/lib/python3.11/site-packages (from tensorflow-macos) (1.14.1)\n",
      "Requirement already satisfied: tensorflow-io-gcs-filesystem>=0.23.1 in /Users/athena/Documents/ecole/vintedLikeComputingVision/app-env/lib/python3.11/site-packages (from tensorflow-macos) (0.34.0)\n",
      "Requirement already satisfied: grpcio<2.0,>=1.24.3 in /Users/athena/Documents/ecole/vintedLikeComputingVision/app-env/lib/python3.11/site-packages (from tensorflow-macos) (1.59.0)\n",
      "Requirement already satisfied: tensorboard<2.15,>=2.14 in /Users/athena/Documents/ecole/vintedLikeComputingVision/app-env/lib/python3.11/site-packages (from tensorflow-macos) (2.14.1)\n",
      "Requirement already satisfied: tensorflow-estimator<2.15,>=2.14.0 in /Users/athena/Documents/ecole/vintedLikeComputingVision/app-env/lib/python3.11/site-packages (from tensorflow-macos) (2.14.0)\n",
      "Requirement already satisfied: keras<2.15,>=2.14.0 in /Users/athena/Documents/ecole/vintedLikeComputingVision/app-env/lib/python3.11/site-packages (from tensorflow-macos) (2.14.0)\n",
      "Requirement already satisfied: wheel<1.0,>=0.23.0 in /Users/athena/Documents/ecole/vintedLikeComputingVision/app-env/lib/python3.11/site-packages (from astunparse>=1.6.0->tensorflow-macos) (0.41.2)\n",
      "Requirement already satisfied: google-auth<3,>=1.6.3 in /Users/athena/Documents/ecole/vintedLikeComputingVision/app-env/lib/python3.11/site-packages (from tensorboard<2.15,>=2.14->tensorflow-macos) (2.23.3)\n",
      "Requirement already satisfied: google-auth-oauthlib<1.1,>=0.5 in /Users/athena/Documents/ecole/vintedLikeComputingVision/app-env/lib/python3.11/site-packages (from tensorboard<2.15,>=2.14->tensorflow-macos) (1.0.0)\n",
      "Requirement already satisfied: markdown>=2.6.8 in /Users/athena/Documents/ecole/vintedLikeComputingVision/app-env/lib/python3.11/site-packages (from tensorboard<2.15,>=2.14->tensorflow-macos) (3.5)\n",
      "Requirement already satisfied: requests<3,>=2.21.0 in /Users/athena/Documents/ecole/vintedLikeComputingVision/app-env/lib/python3.11/site-packages (from tensorboard<2.15,>=2.14->tensorflow-macos) (2.31.0)\n",
      "Requirement already satisfied: tensorboard-data-server<0.8.0,>=0.7.0 in /Users/athena/Documents/ecole/vintedLikeComputingVision/app-env/lib/python3.11/site-packages (from tensorboard<2.15,>=2.14->tensorflow-macos) (0.7.1)\n",
      "Requirement already satisfied: werkzeug>=1.0.1 in /Users/athena/Documents/ecole/vintedLikeComputingVision/app-env/lib/python3.11/site-packages (from tensorboard<2.15,>=2.14->tensorflow-macos) (2.2.2)\n",
      "Requirement already satisfied: cachetools<6.0,>=2.0.0 in /Users/athena/Documents/ecole/vintedLikeComputingVision/app-env/lib/python3.11/site-packages (from google-auth<3,>=1.6.3->tensorboard<2.15,>=2.14->tensorflow-macos) (5.3.1)\n",
      "Requirement already satisfied: pyasn1-modules>=0.2.1 in /Users/athena/Documents/ecole/vintedLikeComputingVision/app-env/lib/python3.11/site-packages (from google-auth<3,>=1.6.3->tensorboard<2.15,>=2.14->tensorflow-macos) (0.3.0)\n",
      "Requirement already satisfied: rsa<5,>=3.1.4 in /Users/athena/Documents/ecole/vintedLikeComputingVision/app-env/lib/python3.11/site-packages (from google-auth<3,>=1.6.3->tensorboard<2.15,>=2.14->tensorflow-macos) (4.9)\n",
      "Requirement already satisfied: requests-oauthlib>=0.7.0 in /Users/athena/Documents/ecole/vintedLikeComputingVision/app-env/lib/python3.11/site-packages (from google-auth-oauthlib<1.1,>=0.5->tensorboard<2.15,>=2.14->tensorflow-macos) (1.3.1)\n",
      "Requirement already satisfied: charset-normalizer<4,>=2 in /Users/athena/Documents/ecole/vintedLikeComputingVision/app-env/lib/python3.11/site-packages (from requests<3,>=2.21.0->tensorboard<2.15,>=2.14->tensorflow-macos) (3.3.0)\n",
      "Requirement already satisfied: idna<4,>=2.5 in /Users/athena/Documents/ecole/vintedLikeComputingVision/app-env/lib/python3.11/site-packages (from requests<3,>=2.21.0->tensorboard<2.15,>=2.14->tensorflow-macos) (3.4)\n",
      "Requirement already satisfied: urllib3<3,>=1.21.1 in /Users/athena/Documents/ecole/vintedLikeComputingVision/app-env/lib/python3.11/site-packages (from requests<3,>=2.21.0->tensorboard<2.15,>=2.14->tensorflow-macos) (2.0.6)\n",
      "Requirement already satisfied: certifi>=2017.4.17 in /Users/athena/Documents/ecole/vintedLikeComputingVision/app-env/lib/python3.11/site-packages (from requests<3,>=2.21.0->tensorboard<2.15,>=2.14->tensorflow-macos) (2023.7.22)\n",
      "Requirement already satisfied: MarkupSafe>=2.1.1 in /Users/athena/Documents/ecole/vintedLikeComputingVision/app-env/lib/python3.11/site-packages (from werkzeug>=1.0.1->tensorboard<2.15,>=2.14->tensorflow-macos) (2.1.3)\n",
      "Requirement already satisfied: pyasn1<0.6.0,>=0.4.6 in /Users/athena/Documents/ecole/vintedLikeComputingVision/app-env/lib/python3.11/site-packages (from pyasn1-modules>=0.2.1->google-auth<3,>=1.6.3->tensorboard<2.15,>=2.14->tensorflow-macos) (0.5.0)\n",
      "Requirement already satisfied: oauthlib>=3.0.0 in /Users/athena/Documents/ecole/vintedLikeComputingVision/app-env/lib/python3.11/site-packages (from requests-oauthlib>=0.7.0->google-auth-oauthlib<1.1,>=0.5->tensorboard<2.15,>=2.14->tensorflow-macos) (3.2.2)\n",
      "Requirement already satisfied: tensorflow-metal in /Users/athena/Documents/ecole/vintedLikeComputingVision/app-env/lib/python3.11/site-packages (1.1.0)\n",
      "Requirement already satisfied: wheel~=0.35 in /Users/athena/Documents/ecole/vintedLikeComputingVision/app-env/lib/python3.11/site-packages (from tensorflow-metal) (0.41.2)\n",
      "Requirement already satisfied: six>=1.15.0 in /Users/athena/Documents/ecole/vintedLikeComputingVision/app-env/lib/python3.11/site-packages (from tensorflow-metal) (1.16.0)\n"
     ]
    }
   ],
   "source": [
    "! pip install tensorflow-macos\n",
    "! pip install tensorflow-metal"
   ]
  },
  {
   "cell_type": "code",
   "execution_count": null,
   "metadata": {},
   "outputs": [
    {
     "name": "stdout",
     "output_type": "stream",
     "text": [
      "['/device:CPU:0', '/device:GPU:0']\n"
     ]
    },
    {
     "name": "stderr",
     "output_type": "stream",
     "text": [
      "2023-10-19 16:02:02.228992: I metal_plugin/src/device/metal_device.cc:1154] Metal device set to: Apple M2 Pro\n",
      "2023-10-19 16:02:02.229022: I metal_plugin/src/device/metal_device.cc:296] systemMemory: 32.00 GB\n",
      "2023-10-19 16:02:02.229032: I metal_plugin/src/device/metal_device.cc:313] maxCacheSize: 10.67 GB\n",
      "2023-10-19 16:02:02.229083: I tensorflow/core/common_runtime/pluggable_device/pluggable_device_factory.cc:306] Could not identify NUMA node of platform GPU ID 0, defaulting to 0. Your kernel may not have been built with NUMA support.\n",
      "2023-10-19 16:02:02.229109: I tensorflow/core/common_runtime/pluggable_device/pluggable_device_factory.cc:272] Created TensorFlow device (/device:GPU:0 with 0 MB memory) -> physical PluggableDevice (device: 0, name: METAL, pci bus id: <undefined>)\n"
     ]
    }
   ],
   "source": [
    "from tensorflow.python.client import device_lib\n",
    "\n",
    "def get_available_devices():\n",
    "    local_device_protos = device_lib.list_local_devices()\n",
    "    return [x.name for x in local_device_protos]\n",
    "\n",
    "print(get_available_devices())\n"
   ]
  },
  {
   "cell_type": "code",
   "execution_count": null,
   "metadata": {},
   "outputs": [
    {
     "name": "stderr",
     "output_type": "stream",
     "text": [
      "WARNING:absl:At this time, the v2.11+ optimizer `tf.keras.optimizers.Adam` runs slowly on M1/M2 Macs, please use the legacy Keras optimizer instead, located at `tf.keras.optimizers.legacy.Adam`.\n"
     ]
    },
    {
     "name": "stdout",
     "output_type": "stream",
     "text": [
      "Epoch 1/10\n"
     ]
    },
    {
     "name": "stderr",
     "output_type": "stream",
     "text": [
      "2023-10-19 16:04:38.761127: I tensorflow/core/grappler/optimizers/custom_graph_optimizer_registry.cc:117] Plugin optimizer for device_type GPU is enabled.\n",
      "2023-10-19 16:04:38.788479: E tensorflow/core/grappler/optimizers/meta_optimizer.cc:961] model_pruner failed: INVALID_ARGUMENT: Graph does not contain terminal node Adam/AssignAddVariableOp.\n"
     ]
    },
    {
     "name": "stdout",
     "output_type": "stream",
     "text": [
      "204/204 [==============================] - 27s 121ms/step - loss: 53.7221 - accuracy: 0.3850 - val_loss: 24.2061 - val_accuracy: 0.4322\n",
      "Epoch 2/10\n",
      "204/204 [==============================] - 21s 104ms/step - loss: 26.0849 - accuracy: 0.4817 - val_loss: 21.4681 - val_accuracy: 0.4681\n",
      "Epoch 3/10\n",
      "204/204 [==============================] - 21s 104ms/step - loss: 22.3643 - accuracy: 0.5142 - val_loss: 33.7368 - val_accuracy: 0.3920\n",
      "Epoch 4/10\n",
      "204/204 [==============================] - 21s 104ms/step - loss: 18.6151 - accuracy: 0.5502 - val_loss: 15.2760 - val_accuracy: 0.5190\n",
      "Epoch 5/10\n",
      "204/204 [==============================] - 21s 104ms/step - loss: 16.8712 - accuracy: 0.5903 - val_loss: 29.1276 - val_accuracy: 0.4745\n",
      "Epoch 6/10\n",
      "204/204 [==============================] - 21s 104ms/step - loss: 15.8442 - accuracy: 0.6060 - val_loss: 19.1738 - val_accuracy: 0.5219\n",
      "Epoch 7/10\n",
      "204/204 [==============================] - 21s 104ms/step - loss: 14.3452 - accuracy: 0.6242 - val_loss: 40.9405 - val_accuracy: 0.4070\n",
      "Epoch 8/10\n",
      "204/204 [==============================] - 21s 104ms/step - loss: 13.4964 - accuracy: 0.6417 - val_loss: 19.1810 - val_accuracy: 0.5305\n",
      "Epoch 9/10\n",
      "204/204 [==============================] - 21s 104ms/step - loss: 11.6585 - accuracy: 0.6650 - val_loss: 28.2173 - val_accuracy: 0.4372\n",
      "Epoch 10/10\n",
      "204/204 [==============================] - 21s 104ms/step - loss: 11.8925 - accuracy: 0.6705 - val_loss: 23.0891 - val_accuracy: 0.5140\n",
      "44/44 [==============================] - 4s 84ms/step - loss: 23.3045 - accuracy: 0.5147\n",
      "Test accuracy: 51.47%\n"
     ]
    }
   ],
   "source": [
    "from sklearn.model_selection import train_test_split\n",
    "from tensorflow.keras.optimizers import Adam\n",
    "\n",
    "\n",
    "# Diviser les données en ensembles d'entraînement, de validation et de test\n",
    "x_train, x_temp, y_train, y_temp = train_test_split(x, y_one_hot, test_size=0.3, random_state=42)\n",
    "x_val, x_test, y_val, y_test = train_test_split(x_temp, y_temp, test_size=0.5, random_state=42)\n",
    "\n",
    "from tensorflow.keras.applications import VGG16\n",
    "from tensorflow.keras import layers, models\n",
    "\n",
    "# Charger VGG16 pré-entraîné sur ImageNet et sans les couches entièrement connectées\n",
    "base_model = VGG16(weights='imagenet', include_top=False, input_shape=(150, 150, 3))\n",
    "\n",
    "# Geler les couches du modèle de base\n",
    "for layer in base_model.layers:\n",
    "    layer.trainable = False\n",
    "\n",
    "# Créer le modèle personnalisé\n",
    "model = models.Sequential()\n",
    "model.add(base_model)\n",
    "model.add(layers.Flatten())\n",
    "model.add(layers.Dense(256, activation='relu'))\n",
    "model.add(layers.Dropout(0.5))\n",
    "model.add(layers.Dense(3, activation='softmax'))  # Utiliser 'softmax' pour 3 ou 4 classes à modifier\n",
    "\n",
    "# Compilation du modèle\n",
    "# model.compile(optimizer='adam', loss='categorical_crossentropy', metrics=['accuracy'])\n",
    "model.compile(optimizer=Adam(learning_rate=0.001), loss='categorical_crossentropy', metrics=['accuracy'])\n",
    "# Entraînement\n",
    "model.fit(x_train, y_train, epochs=10, batch_size=32, validation_data=(x_val, y_val))\n",
    "\n",
    "# Évaluer le modèle sur les données de test\n",
    "test_loss, test_accuracy = model.evaluate(x_test, y_test)\n",
    "print(\"Test accuracy: {:.2f}%\".format(test_accuracy * 100))\n"
   ]
  },
  {
   "cell_type": "code",
   "execution_count": 18,
   "metadata": {},
   "outputs": [],
   "source": [
    "# from tensorflow.keras.optimizers import Adam\n",
    "\n",
    "# # Liste des hyperparamètres à tester\n",
    "# learning_rates = [0.001, 0.01]\n",
    "# batch_sizes = [16, 32]\n",
    "\n",
    "# # Boucle pour tester chaque combinaison\n",
    "# for lr in tqdm(learning_rates):\n",
    "#     for batch_size in batch_sizes:\n",
    "#         print(f\"Entraînement avec learning rate = {lr} et batch size = {batch_size}\")\n",
    "\n",
    "#         # Créer le modèle personnalisé comme précédemment\n",
    "#         model = models.Sequential()\n",
    "#         model.add(base_model)\n",
    "#         model.add(layers.Flatten())\n",
    "#         model.add(layers.Dense(256, activation='relu'))\n",
    "#         model.add(layers.Dropout(0.5))\n",
    "#         model.add(layers.Dense(4, activation='softmax'))  # Utiliser 'softmax' pour 4 classes\n",
    "\n",
    "#         # Compilation du modèle avec le taux d'apprentissage courant\n",
    "#         model.compile(optimizer=Adam(learning_rate=lr), loss='categorical_crossentropy', metrics=['accuracy'])\n",
    "\n",
    "#         # Entraînement avec la taille du batch courant\n",
    "#         history = model.fit(x_train, y_train, epochs=10, batch_size=batch_size, validation_data=(x_val, y_val))\n",
    "\n",
    "#         # Évaluer le modèle sur les données de test\n",
    "#         test_loss, test_accuracy = model.evaluate(x_test, y_test)\n",
    "#         print(f\"Test accuracy avec learning rate = {lr} et batch size = {batch_size}: {test_accuracy * 100:.2f}%\")"
   ]
  },
  {
   "cell_type": "code",
   "execution_count": 16,
   "metadata": {},
   "outputs": [],
   "source": [
    "# Sauvegarder le modèle entier\n",
    "model.save(\"my_Fmodel.h5\")\n"
   ]
  },
  {
   "cell_type": "code",
   "execution_count": 34,
   "metadata": {},
   "outputs": [],
   "source": [
    "# image = cv2.imread(\"chauss.jpeg\")\n",
    "# print(image)"
   ]
  },
  {
   "cell_type": "code",
   "execution_count": 17,
   "metadata": {},
   "outputs": [
    {
     "name": "stdout",
     "output_type": "stream",
     "text": [
      "-rw-r--r--@ 1 athena  staff   5.9K Oct 16 12:50 chauss.jpeg\n"
     ]
    }
   ],
   "source": [
    "!ls -lh chauss.jpeg"
   ]
  },
  {
   "cell_type": "code",
   "execution_count": 14,
   "metadata": {},
   "outputs": [],
   "source": [
    "import cv2\n",
    "import numpy as np\n",
    "\n",
    "# Charger une image avec OpenCV\n",
    "# image = cv2.imread(\"chauss.jpeg\")\n",
    "# image = cv2.imread(\"chauNeuv.jpeg\")\n",
    "# image = cv2.imread(\"chaBof.jpeg\")\n",
    "image = cv2.imread(\"/Users/athena/Documents/ecole/vintedLikeComputingVision/test/1664263706.jpeg\")\n",
    "\n",
    "# Redimensionner l'image à 150x150\n",
    "image_resized = cv2.resize(image, (150, 150))\n",
    "\n",
    "# Normaliser l'image\n",
    "image_normalized = image_resized / 255.0\n",
    "\n",
    "# Redimensionner l'image pour ajouter une dimension de batch\n",
    "image_batch = np.expand_dims(image_normalized, axis=0)\n"
   ]
  },
  {
   "cell_type": "code",
   "execution_count": 15,
   "metadata": {},
   "outputs": [
    {
     "name": "stdout",
     "output_type": "stream",
     "text": [
      "1/1 [==============================] - 1s 760ms/step\n",
      "Classe prédite: 0\n"
     ]
    }
   ],
   "source": [
    "# Effectuer une prédiction\n",
    "predictions = model.predict(image_batch)\n",
    "\n",
    "# Obtenir l'indice de la classe prédite\n",
    "predicted_class = np.argmax(predictions[0])\n",
    "\n",
    "print(\"Classe prédite:\", predicted_class)\n"
   ]
  },
  {
   "cell_type": "code",
   "execution_count": null,
   "metadata": {},
   "outputs": [],
   "source": []
  }
 ],
 "metadata": {
  "kernelspec": {
   "display_name": "exo-env",
   "language": "python",
   "name": "python3"
  },
  "language_info": {
   "codemirror_mode": {
    "name": "ipython",
    "version": 3
   },
   "file_extension": ".py",
   "mimetype": "text/x-python",
   "name": "python",
   "nbconvert_exporter": "python",
   "pygments_lexer": "ipython3",
   "version": "3.11.4"
  },
  "orig_nbformat": 4
 },
 "nbformat": 4,
 "nbformat_minor": 2
}
